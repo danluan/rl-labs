{
  "cells": [
    {
      "cell_type": "markdown",
      "source": [
        "# Biliotecas"
      ],
      "metadata": {
        "id": "f3ahVih93jpQ"
      }
    },
    {
      "cell_type": "code",
      "execution_count": null,
      "metadata": {
        "id": "KtRypzNFEb3t"
      },
      "outputs": [],
      "source": [
        "# Instala os pacotes necessários:\n",
        "# - gymnasium[toy-text]: inclui ambientes simples como FrozenLake, Taxi, etc.\n",
        "# - imageio[ffmpeg]: permite salvar vídeos e GIFs (formato .mp4 ou .gif)\n",
        "!pip install gymnasium[toy-text] imageio[ffmpeg]"
      ]
    },
    {
      "cell_type": "code",
      "execution_count": null,
      "metadata": {
        "id": "FTh_QK47EfwM"
      },
      "outputs": [],
      "source": [
        "# Importa as bibliotecas principais\n",
        "import gymnasium as gym               # Biblioteca de simulações de ambientes para RL\n",
        "import imageio                        # Usada para salvar a sequência de frames como GIF\n",
        "from IPython.display import Image     # Para exibir a imagem (GIF) diretamente no notebook\n",
        "import numpy as np                    # Importa o pacote NumPy, amplamente utilizado para manipulação de arrays e operações numéricas vetoriais\n",
        "from typing import Dict, Tuple, List  # Importa ferramentas de tipagem estática do Python\n",
        "import numpy as np\n",
        "import matplotlib.pyplot as plt\n",
        "import seaborn as sns\n",
        "import pandas as pd"
      ]
    },
    {
      "cell_type": "markdown",
      "source": [
        "# Implementação do SARSA"
      ],
      "metadata": {
        "id": "AOeAMZ4ux_GJ"
      }
    },
    {
      "cell_type": "code",
      "source": [
        "def sarsa(\n",
        "    env,\n",
        "    episodes: int,\n",
        "    alpha: float,\n",
        "    gamma: float,\n",
        "    epsilon: float\n",
        ") -> Tuple[np.ndarray, List[int], List[float], Dict[int, np.ndarray]]:\n",
        "\n",
        "  # Implementacao aqui\n",
        "\n",
        "    return q_table, episodio_len, episodio_return, politica"
      ],
      "metadata": {
        "id": "LbG4t6G4zOCV"
      },
      "execution_count": null,
      "outputs": []
    },
    {
      "cell_type": "markdown",
      "source": [
        "# Visualização"
      ],
      "metadata": {
        "id": "xaEmBiJL0i4u"
      }
    },
    {
      "cell_type": "code",
      "source": [
        "def plotar_metricas(episodio_len: list[int], episodio_return: list[float], janela: int = 100) -> None:\n",
        "# Código aqui"
      ],
      "metadata": {
        "id": "YbG3uhMd0vYn"
      },
      "execution_count": null,
      "outputs": []
    },
    {
      "cell_type": "code",
      "source": [
        "def gerar_gif_epsilon_greedy_politica(\n",
        "    politica: Dict[int, np.ndarray],\n",
        "    env,\n",
        "    path_gif: str,\n",
        "    n_episodios: int = 5\n",
        ") -> str:\n",
        "    frames = []\n",
        "    n_actions = len(next(iter(politica.values())))\n",
        "\n",
        "    for ep in range(n_episodios):\n",
        "        state, _ = env.reset()\n",
        "        for _ in range(100):\n",
        "            action = np.random.choice(n_actions, p=politica[state])\n",
        "            state, reward, terminated, truncated, _ = env.step(action)\n",
        "            frames.append(env.render())\n",
        "            if terminated or truncated:\n",
        "                break\n",
        "\n",
        "    env.close()\n",
        "    imageio.mimsave(path_gif, frames, format=\"GIF\", fps=2)\n",
        "    return path_gif"
      ],
      "metadata": {
        "id": "aj1A2Isgr8Cn"
      },
      "execution_count": null,
      "outputs": []
    },
    {
      "cell_type": "markdown",
      "source": [
        "# Simulação"
      ],
      "metadata": {
        "id": "mmyeoebD12LK"
      }
    },
    {
      "cell_type": "code",
      "execution_count": null,
      "metadata": {
        "id": "CwV8tBNfceSh"
      },
      "outputs": [],
      "source": [
        "# Configura o ambiente\n",
        "map_name = '8x8'\n",
        "render_mode = 'rgb_array'  # retorna imagens do ambiente como arrays de pixels\n",
        "is_slippery = False  # torna o ambiente determinístico ou estocástico\n",
        "env = gym.make(\"FrozenLake-v1\", map_name=map_name, render_mode=render_mode, is_slippery=is_slippery)"
      ]
    },
    {
      "cell_type": "code",
      "source": [
        "# Hiper-parâmetros principais\n",
        "EPISODIOS = 1000  # @param {type:\"integer\"}\n",
        "ALPHA     = 0.1      # @param {type:\"number\"}  # comprimento máximo da sequência (+1 p/ token deslocado)\n",
        "GAMMA     = 0.9     # @param {type:\"number\"}\n",
        "EPSILON   = 1.0     # @param {type:\"number\"}\n",
        "\n",
        "# Sarsa\n",
        "q_table, ep_len, ep_ret, politica_eps = sarsa(\n",
        "    env,\n",
        "    episodes=EPISODIOS,\n",
        "    alpha=ALPHA,\n",
        "    gamma=GAMMA,\n",
        "    epsilon=EPSILON\n",
        ")"
      ],
      "metadata": {
        "id": "vu06_B1pr73N"
      },
      "execution_count": null,
      "outputs": []
    },
    {
      "cell_type": "code",
      "source": [
        "plotar_metricas(episodio_len, episodio_return)"
      ],
      "metadata": {
        "id": "hMtXRVqOuYOM"
      },
      "execution_count": null,
      "outputs": []
    },
    {
      "cell_type": "code",
      "source": [
        "# Recria ambiente para renderizar\n",
        "env_vis = gym.make(\"FrozenLake-v1\", map_name=\"4x4\", is_slippery=False, render_mode=\"rgb_array\")\n",
        "\n",
        "# Gera o GIF\n",
        "gif_path = \"politica_epsilon_gulosa.gif\"\n",
        "gerar_gif_epsilon_greedy_politica(politica_eps, env_vis, gif_path, n_episodios=5)\n",
        "\n",
        "\n",
        "# Exibe o GIF diretamente no notebook\n",
        "Image(filename=gif_path)"
      ],
      "metadata": {
        "id": "wkeyHPZ-3KBx"
      },
      "execution_count": null,
      "outputs": []
    },
    {
      "cell_type": "markdown",
      "metadata": {
        "id": "NraUVaHco8Hr"
      },
      "source": [
        "# Tarefa:\n",
        "\n",
        "1. Implemente o algoritmo Sarsa\n",
        "2. Considere os 4 hiperparametros (EPISODIOS, ALPHA, GAMMA, EPSILON). Varie um dos hiperparametros (ex.: EPISODIOS) e fixe os demais (ex.: ALPHA, GAMMA, EPSILON). Repita o procedimento para cada um dos hiperparametros. Reporte suas observações.\n",
        "3. Plote a duração do episódio por episódio e também a recompensa total por episodio."
      ]
    }
  ],
  "metadata": {
    "colab": {
      "provenance": []
    },
    "kernelspec": {
      "display_name": "GAM",
      "language": "python",
      "name": "python3"
    },
    "language_info": {
      "name": "python",
      "version": "3.10.15"
    }
  },
  "nbformat": 4,
  "nbformat_minor": 0
}