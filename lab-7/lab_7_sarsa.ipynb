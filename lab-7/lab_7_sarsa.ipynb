{
  "cells": [
    {
      "cell_type": "markdown",
      "metadata": {
        "id": "f3ahVih93jpQ"
      },
      "source": [
        "# Biliotecas"
      ]
    },
    {
      "cell_type": "code",
      "execution_count": null,
      "metadata": {
        "id": "KtRypzNFEb3t"
      },
      "outputs": [
        {
          "name": "stdout",
          "output_type": "stream",
          "text": [
            "zsh:1: no matches found: gymnasium[toy-text]\n"
          ]
        },
        {
          "name": "stdout",
          "output_type": "stream",
          "text": [
            "Note: you may need to restart the kernel to use updated packages.\n"
          ]
        }
      ],
      "source": [
        "# Instala os pacotes necessários:\n",
        "# - gymnasium[toy-text]: inclui ambientes simples como FrozenLake, Taxi, etc.\n",
        "# - imageio[ffmpeg]: permite salvar vídeos e GIFs (formato .mp4 ou .gif)\n",
        "# %pip install gymnasium[toy-text] imageio[ffmpeg]"
      ]
    },
    {
      "cell_type": "code",
      "execution_count": 7,
      "metadata": {
        "id": "FTh_QK47EfwM"
      },
      "outputs": [],
      "source": [
        "# Importa as bibliotecas principais\n",
        "import gymnasium as gym               # Biblioteca de simulações de ambientes para RL\n",
        "import imageio                        # Usada para salvar a sequência de frames como GIF\n",
        "from IPython.display import Image     # Para exibir a imagem (GIF) diretamente no notebook\n",
        "import numpy as np                    # Importa o pacote NumPy, amplamente utilizado para manipulação de arrays e operações numéricas vetoriais\n",
        "from typing import Dict, Tuple, List  # Importa ferramentas de tipagem estática do Python\n",
        "import numpy as np\n",
        "import matplotlib.pyplot as plt\n",
        "import seaborn as sns\n",
        "import pandas as pd"
      ]
    },
    {
      "cell_type": "markdown",
      "metadata": {
        "id": "AOeAMZ4ux_GJ"
      },
      "source": [
        "# Implementação do SARSA"
      ]
    },
    {
      "cell_type": "code",
      "execution_count": 8,
      "metadata": {
        "id": "LbG4t6G4zOCV"
      },
      "outputs": [],
      "source": [
        "def sarsa(\n",
        "    env,\n",
        "    episodes: int,\n",
        "    alpha: float,\n",
        "    gamma: float,\n",
        "    epsilon: float\n",
        ") -> Tuple[np.ndarray, List[int], List[float], Dict[int, np.ndarray]]:\n",
        "\n",
        "  # Implementacao aqui\n",
        "\n",
        "    return q_table, episodio_len, episodio_return, politica"
      ]
    },
    {
      "cell_type": "markdown",
      "metadata": {
        "id": "xaEmBiJL0i4u"
      },
      "source": [
        "# Visualização"
      ]
    },
    {
      "cell_type": "code",
      "execution_count": 9,
      "metadata": {
        "id": "YbG3uhMd0vYn"
      },
      "outputs": [
        {
          "ename": "SyntaxError",
          "evalue": "incomplete input (1254025499.py, line 2)",
          "output_type": "error",
          "traceback": [
            "  \u001b[36mCell\u001b[39m\u001b[36m \u001b[39m\u001b[32mIn[9]\u001b[39m\u001b[32m, line 2\u001b[39m\n\u001b[31m    \u001b[39m\u001b[31m# Código aqui\u001b[39m\n                 ^\n\u001b[31mSyntaxError\u001b[39m\u001b[31m:\u001b[39m incomplete input\n"
          ]
        }
      ],
      "source": [
        "def plotar_metricas(episodio_len: list[int], episodio_return: list[float], janela: int = 100) -> None:\n",
        "# Código aqui"
      ]
    },
    {
      "cell_type": "code",
      "execution_count": 10,
      "metadata": {
        "id": "aj1A2Isgr8Cn"
      },
      "outputs": [],
      "source": [
        "def gerar_gif_epsilon_greedy_politica(\n",
        "    politica: Dict[int, np.ndarray],\n",
        "    env,\n",
        "    path_gif: str,\n",
        "    n_episodios: int = 5\n",
        ") -> str:\n",
        "    frames = []\n",
        "    n_actions = len(next(iter(politica.values())))\n",
        "\n",
        "    for ep in range(n_episodios):\n",
        "        state, _ = env.reset()\n",
        "        for _ in range(100):\n",
        "            action = np.random.choice(n_actions, p=politica[state])\n",
        "            state, reward, terminated, truncated, _ = env.step(action)\n",
        "            frames.append(env.render())\n",
        "            if terminated or truncated:\n",
        "                break\n",
        "\n",
        "    env.close()\n",
        "    imageio.mimsave(path_gif, frames, format=\"GIF\", fps=2)\n",
        "    return path_gif"
      ]
    },
    {
      "cell_type": "markdown",
      "metadata": {
        "id": "mmyeoebD12LK"
      },
      "source": [
        "# Simulação"
      ]
    },
    {
      "cell_type": "code",
      "execution_count": 11,
      "metadata": {
        "id": "CwV8tBNfceSh"
      },
      "outputs": [],
      "source": [
        "# Configura o ambiente\n",
        "map_name = '8x8'\n",
        "render_mode = 'rgb_array'  # retorna imagens do ambiente como arrays de pixels\n",
        "is_slippery = False  # torna o ambiente determinístico ou estocástico\n",
        "env = gym.make(\"FrozenLake-v1\", map_name=map_name, render_mode=render_mode, is_slippery=is_slippery)"
      ]
    },
    {
      "cell_type": "code",
      "execution_count": 12,
      "metadata": {
        "id": "vu06_B1pr73N"
      },
      "outputs": [
        {
          "ename": "NameError",
          "evalue": "name 'q_table' is not defined",
          "output_type": "error",
          "traceback": [
            "\u001b[31m---------------------------------------------------------------------------\u001b[39m",
            "\u001b[31mNameError\u001b[39m                                 Traceback (most recent call last)",
            "\u001b[36mCell\u001b[39m\u001b[36m \u001b[39m\u001b[32mIn[12]\u001b[39m\u001b[32m, line 8\u001b[39m\n\u001b[32m      5\u001b[39m EPSILON   = \u001b[32m1.0\u001b[39m     \u001b[38;5;66;03m# @param {type:\"number\"}\u001b[39;00m\n\u001b[32m      7\u001b[39m \u001b[38;5;66;03m# Sarsa\u001b[39;00m\n\u001b[32m----> \u001b[39m\u001b[32m8\u001b[39m q_table, ep_len, ep_ret, politica_eps = \u001b[43msarsa\u001b[49m\u001b[43m(\u001b[49m\n\u001b[32m      9\u001b[39m \u001b[43m    \u001b[49m\u001b[43menv\u001b[49m\u001b[43m,\u001b[49m\n\u001b[32m     10\u001b[39m \u001b[43m    \u001b[49m\u001b[43mepisodes\u001b[49m\u001b[43m=\u001b[49m\u001b[43mEPISODIOS\u001b[49m\u001b[43m,\u001b[49m\n\u001b[32m     11\u001b[39m \u001b[43m    \u001b[49m\u001b[43malpha\u001b[49m\u001b[43m=\u001b[49m\u001b[43mALPHA\u001b[49m\u001b[43m,\u001b[49m\n\u001b[32m     12\u001b[39m \u001b[43m    \u001b[49m\u001b[43mgamma\u001b[49m\u001b[43m=\u001b[49m\u001b[43mGAMMA\u001b[49m\u001b[43m,\u001b[49m\n\u001b[32m     13\u001b[39m \u001b[43m    \u001b[49m\u001b[43mepsilon\u001b[49m\u001b[43m=\u001b[49m\u001b[43mEPSILON\u001b[49m\n\u001b[32m     14\u001b[39m \u001b[43m)\u001b[49m\n",
            "\u001b[36mCell\u001b[39m\u001b[36m \u001b[39m\u001b[32mIn[8]\u001b[39m\u001b[32m, line 11\u001b[39m, in \u001b[36msarsa\u001b[39m\u001b[34m(env, episodes, alpha, gamma, epsilon)\u001b[39m\n\u001b[32m      1\u001b[39m \u001b[38;5;28;01mdef\u001b[39;00m\u001b[38;5;250m \u001b[39m\u001b[34msarsa\u001b[39m(\n\u001b[32m      2\u001b[39m     env,\n\u001b[32m      3\u001b[39m     episodes: \u001b[38;5;28mint\u001b[39m,\n\u001b[32m   (...)\u001b[39m\u001b[32m      8\u001b[39m \n\u001b[32m      9\u001b[39m   \u001b[38;5;66;03m# Implementacao aqui\u001b[39;00m\n\u001b[32m---> \u001b[39m\u001b[32m11\u001b[39m     \u001b[38;5;28;01mreturn\u001b[39;00m \u001b[43mq_table\u001b[49m, episodio_len, episodio_return, politica\n",
            "\u001b[31mNameError\u001b[39m: name 'q_table' is not defined"
          ]
        }
      ],
      "source": [
        "# Hiper-parâmetros principais\n",
        "EPISODIOS = 1000  # @param {type:\"integer\"}\n",
        "ALPHA     = 0.1      # @param {type:\"number\"}  # comprimento máximo da sequência (+1 p/ token deslocado)\n",
        "GAMMA     = 0.9     # @param {type:\"number\"}\n",
        "EPSILON   = 1.0     # @param {type:\"number\"}\n",
        "\n",
        "# Sarsa\n",
        "q_table, ep_len, ep_ret, politica_eps = sarsa(\n",
        "    env,\n",
        "    episodes=EPISODIOS,\n",
        "    alpha=ALPHA,\n",
        "    gamma=GAMMA,\n",
        "    epsilon=EPSILON\n",
        ")"
      ]
    },
    {
      "cell_type": "code",
      "execution_count": null,
      "metadata": {
        "id": "hMtXRVqOuYOM"
      },
      "outputs": [],
      "source": [
        "plotar_metricas(episodio_len, episodio_return)"
      ]
    },
    {
      "cell_type": "code",
      "execution_count": null,
      "metadata": {
        "id": "wkeyHPZ-3KBx"
      },
      "outputs": [],
      "source": [
        "# Recria ambiente para renderizar\n",
        "env_vis = gym.make(\"FrozenLake-v1\", map_name=\"4x4\", is_slippery=False, render_mode=\"rgb_array\")\n",
        "\n",
        "# Gera o GIF\n",
        "gif_path = \"politica_epsilon_gulosa.gif\"\n",
        "gerar_gif_epsilon_greedy_politica(politica_eps, env_vis, gif_path, n_episodios=5)\n",
        "\n",
        "\n",
        "# Exibe o GIF diretamente no notebook\n",
        "Image(filename=gif_path)"
      ]
    },
    {
      "cell_type": "markdown",
      "metadata": {
        "id": "NraUVaHco8Hr"
      },
      "source": [
        "# Tarefa:\n",
        "\n",
        "1. Implemente o algoritmo Sarsa\n",
        "2. Considere os 4 hiperparametros (EPISODIOS, ALPHA, GAMMA, EPSILON). Varie um dos hiperparametros (ex.: EPISODIOS) e fixe os demais (ex.: ALPHA, GAMMA, EPSILON). Repita o procedimento para cada um dos hiperparametros. Reporte suas observações.\n",
        "3. Plote a duração do episódio por episódio e também a recompensa total por episodio."
      ]
    }
  ],
  "metadata": {
    "colab": {
      "provenance": []
    },
    "kernelspec": {
      "display_name": ".venv",
      "language": "python",
      "name": "python3"
    },
    "language_info": {
      "codemirror_mode": {
        "name": "ipython",
        "version": 3
      },
      "file_extension": ".py",
      "mimetype": "text/x-python",
      "name": "python",
      "nbconvert_exporter": "python",
      "pygments_lexer": "ipython3",
      "version": "3.12.3"
    }
  },
  "nbformat": 4,
  "nbformat_minor": 0
}
